{
  "nbformat": 4,
  "nbformat_minor": 0,
  "metadata": {
    "colab": {
      "name": "Reinforcement Learning.ipynb",
      "provenance": [],
      "collapsed_sections": [],
      "authorship_tag": "ABX9TyPhPbPMgWgZe+nuTOLnXob2",
      "include_colab_link": true
    },
    "kernelspec": {
      "name": "python3",
      "display_name": "Python 3"
    },
    "language_info": {
      "name": "python"
    }
  },
  "cells": [
    {
      "cell_type": "markdown",
      "metadata": {
        "id": "view-in-github",
        "colab_type": "text"
      },
      "source": [
        "<a href=\"https://colab.research.google.com/github/GauraoM/Tensorflow/blob/main/Reinforcement_Learning.ipynb\" target=\"_parent\"><img src=\"https://colab.research.google.com/assets/colab-badge.svg\" alt=\"Open In Colab\"/></a>"
      ]
    },
    {
      "cell_type": "markdown",
      "source": [
        "#### Q-Learning\n",
        "For this example we will use the Q-Learning algorithm to train an agent to navigate a popular enviornment from the Open AI Gym. The Open AI Gym was developed so programmers could practice machine learning using unique enviornments. Intersting fact, Elon Musk is one of the founders of OpenAI!"
      ],
      "metadata": {
        "id": "M-T6cXfdVUWg"
      }
    },
    {
      "cell_type": "code",
      "execution_count": 1,
      "metadata": {
        "id": "yiYru0VIMavO"
      },
      "outputs": [],
      "source": [
        "import gym\n"
      ]
    },
    {
      "cell_type": "code",
      "source": [
        "env = gym.make(\"FrozenLake-v0\") # Going to use Frozenlake environment"
      ],
      "metadata": {
        "id": "YEVABuSnV2gI"
      },
      "execution_count": 2,
      "outputs": []
    },
    {
      "cell_type": "code",
      "source": [
        "print(env.observation_space.n)   # get number of states\n",
        "print(env.action_space.n)   # get number of actions"
      ],
      "metadata": {
        "colab": {
          "base_uri": "https://localhost:8080/"
        },
        "id": "P-B0_EoqWJ-R",
        "outputId": "3e511fb3-893c-40cc-a054-469d9e42acdf"
      },
      "execution_count": 3,
      "outputs": [
        {
          "output_type": "stream",
          "name": "stdout",
          "text": [
            "16\n",
            "4\n"
          ]
        }
      ]
    },
    {
      "cell_type": "code",
      "source": [
        "env.reset()  # reset enviornment to default state"
      ],
      "metadata": {
        "colab": {
          "base_uri": "https://localhost:8080/"
        },
        "id": "1JhYIXCjXKH0",
        "outputId": "6e194dd3-1aa5-47f3-bc68-e0de2b6dd120"
      },
      "execution_count": 4,
      "outputs": [
        {
          "output_type": "execute_result",
          "data": {
            "text/plain": [
              "0"
            ]
          },
          "metadata": {},
          "execution_count": 4
        }
      ]
    },
    {
      "cell_type": "code",
      "source": [
        "action = env.action_space.sample()  # get a random action "
      ],
      "metadata": {
        "id": "4e00LmvUXRxl"
      },
      "execution_count": 5,
      "outputs": []
    },
    {
      "cell_type": "code",
      "source": [
        "new_state, reward, done, info = env.step(action)  # take action, notice it returns information about the action"
      ],
      "metadata": {
        "id": "dFsDgNWrXYqy"
      },
      "execution_count": 6,
      "outputs": []
    },
    {
      "cell_type": "code",
      "source": [
        "env.render()   # render the GUI for the enviornment "
      ],
      "metadata": {
        "colab": {
          "base_uri": "https://localhost:8080/"
        },
        "id": "yzWW01oUXc6Y",
        "outputId": "1e0644ff-b740-4f1c-8d16-49cf7bafbbca"
      },
      "execution_count": 7,
      "outputs": [
        {
          "output_type": "stream",
          "name": "stdout",
          "text": [
            "  (Down)\n",
            "SFFF\n",
            "\u001b[41mF\u001b[0mHFH\n",
            "FFFH\n",
            "HFFG\n"
          ]
        }
      ]
    },
    {
      "cell_type": "markdown",
      "source": [
        "### Frozen Lake Enviornment\n",
        "There are:\n",
        "\n",
        "16 states (one for each square)\n",
        "\n",
        "4 possible actions (LEFT, RIGHT, DOWN, UP)\n",
        "\n",
        "4 different types of blocks (F: frozen, H: hole, S: start, G: goal)"
      ],
      "metadata": {
        "id": "0Oo1VL3CYJYf"
      }
    },
    {
      "cell_type": "code",
      "source": [
        "import gym\n",
        "import numpy as np\n",
        "import time\n",
        "\n",
        "env = gym.make('FrozenLake-v0')\n",
        "STATES = env.observation_space.n\n",
        "ACTIONS = env.action_space.n"
      ],
      "metadata": {
        "id": "LJBgIzUuYCnU"
      },
      "execution_count": 9,
      "outputs": []
    },
    {
      "cell_type": "code",
      "source": [
        "# Create an empty Q table\n",
        "Q = np.zeros((STATES, ACTIONS))\n",
        "Q"
      ],
      "metadata": {
        "colab": {
          "base_uri": "https://localhost:8080/"
        },
        "id": "oqJEgkXsY07B",
        "outputId": "915cc005-d59d-4cb9-ea78-80a02f86bb00"
      },
      "execution_count": 10,
      "outputs": [
        {
          "output_type": "execute_result",
          "data": {
            "text/plain": [
              "array([[0., 0., 0., 0.],\n",
              "       [0., 0., 0., 0.],\n",
              "       [0., 0., 0., 0.],\n",
              "       [0., 0., 0., 0.],\n",
              "       [0., 0., 0., 0.],\n",
              "       [0., 0., 0., 0.],\n",
              "       [0., 0., 0., 0.],\n",
              "       [0., 0., 0., 0.],\n",
              "       [0., 0., 0., 0.],\n",
              "       [0., 0., 0., 0.],\n",
              "       [0., 0., 0., 0.],\n",
              "       [0., 0., 0., 0.],\n",
              "       [0., 0., 0., 0.],\n",
              "       [0., 0., 0., 0.],\n",
              "       [0., 0., 0., 0.],\n",
              "       [0., 0., 0., 0.]])"
            ]
          },
          "metadata": {},
          "execution_count": 10
        }
      ]
    },
    {
      "cell_type": "markdown",
      "source": [
        "#### Some Constant  "
      ],
      "metadata": {
        "id": "oMLXI5oJZf6b"
      }
    },
    {
      "cell_type": "code",
      "source": [
        "EPISODES = 2000 # how many times to run the enviornment from the beginning\n",
        "MAX_STEPS = 100  # max number of steps allowed for each run of enviornment\n",
        "\n",
        "LEARNING_RATE = 0.81  # learning rate\n",
        "GAMMA = 0.96"
      ],
      "metadata": {
        "id": "fScXcQO6Ze2c"
      },
      "execution_count": 11,
      "outputs": []
    },
    {
      "cell_type": "code",
      "source": [
        "## Picking an action\n",
        "\n",
        "epsilon = 0.9 # start with a 90% chance of picking a random action\n",
        "\n",
        "if np.random.uniform(0,1) < 0.9:\n",
        "  action = env.action_space.sample # Take a random action\n",
        "else:\n",
        "  action = np.argmax(Q[state, :])  # Look the Q table and choose the best action on current values"
      ],
      "metadata": {
        "id": "KaIdrIwYZlk8"
      },
      "execution_count": 12,
      "outputs": []
    },
    {
      "cell_type": "markdown",
      "source": [
        "#### Updating Q Value"
      ],
      "metadata": {
        "id": "RJncuJrhbWzW"
      }
    },
    {
      "cell_type": "code",
      "source": [
        "# Formula\n",
        "Q[state, action] = Q[state, action] + LEARNING_RATE * (reward + GAMMA * np.max(Q[new_state, :]) - Q[state, action])"
      ],
      "metadata": {
        "id": "88rM_CRJbldY"
      },
      "execution_count": null,
      "outputs": []
    },
    {
      "cell_type": "markdown",
      "source": [
        "#### Putting Together"
      ],
      "metadata": {
        "id": "ivtHyhvQbmnZ"
      }
    },
    {
      "cell_type": "code",
      "source": [
        "import gym\n",
        "import numpy as np\n",
        "import time\n",
        "\n",
        "env = gym.make('FrozenLake-v0')\n",
        "STATES = env.observation_space.n\n",
        "ACTIONS = env.action_space.n\n",
        "\n",
        "Q = np.zeros((STATES, ACTIONS))\n",
        "\n",
        "EPISODES = 1500 # how many times to run the enviornment from the beginning\n",
        "MAX_STEPS = 100  # max number of steps allowed for each run of enviornment\n",
        "\n",
        "LEARNING_RATE = 0.81  # learning rate\n",
        "GAMMA = 0.96\n",
        "\n",
        "RENDER = False # if you want to see training set to true\n",
        "\n",
        "epsilon = 0.9"
      ],
      "metadata": {
        "id": "v6UvtkL-bo7y"
      },
      "execution_count": 18,
      "outputs": []
    },
    {
      "cell_type": "code",
      "source": [
        "rewards = []\n",
        "# Iterating over episodes\n",
        "for episode in range(EPISODES):\n",
        "  # Reset environment to initial state\n",
        "  state = env.reset()\n",
        "\n",
        "  for _ in range(MAX_STEPS):\n",
        "    \n",
        "    if RENDER:\n",
        "      env.render()\n",
        "\n",
        "    if np.random.uniform(0, 1) < epsilon: \n",
        "      action = env.action_space.sample()  # Take a random action\n",
        "    else:\n",
        "      action = np.argmax(Q[state, :]) #Look the Q table and choose the best action on current values\n",
        "\n",
        "    next_state, reward, done, _ = env.step(action) ## Take the action at each step\n",
        "\n",
        "    # Update the Q values based on the formula below\n",
        "    Q[state, action] = Q[state, action] + LEARNING_RATE * (reward + GAMMA * np.max(Q[next_state, :]) - Q[state, action])\n",
        "\n",
        "    state = next_state\n",
        "\n",
        "    if done: \n",
        "      rewards.append(reward)\n",
        "      epsilon -= 0.001\n",
        "      break  # reached goal\n",
        "\n",
        "print(Q)\n",
        "print(f\"Average reward: {sum(rewards)/len(rewards)}:\")"
      ],
      "metadata": {
        "colab": {
          "base_uri": "https://localhost:8080/"
        },
        "id": "edncR1tEcCxJ",
        "outputId": "a7ac41e8-4ee1-4f10-dcb8-5de063282c46"
      },
      "execution_count": 20,
      "outputs": [
        {
          "output_type": "stream",
          "name": "stdout",
          "text": [
            "[[3.40389685e-01 1.96293595e-02 1.94926809e-02 2.04170375e-02]\n",
            " [3.21921071e-03 7.23991001e-03 6.73418668e-03 2.90784707e-01]\n",
            " [8.21312990e-03 4.43938873e-03 5.41639893e-03 3.12591614e-01]\n",
            " [4.99682448e-03 4.06169679e-03 7.54564110e-04 1.22685507e-01]\n",
            " [3.68488856e-01 1.25981458e-02 1.26125559e-02 6.38086897e-03]\n",
            " [0.00000000e+00 0.00000000e+00 0.00000000e+00 0.00000000e+00]\n",
            " [4.84396546e-06 1.72734706e-06 2.19340806e-01 4.01609348e-06]\n",
            " [0.00000000e+00 0.00000000e+00 0.00000000e+00 0.00000000e+00]\n",
            " [1.30543623e-02 1.34173052e-02 1.00488913e-02 4.69344393e-01]\n",
            " [1.10256254e-02 7.19297735e-01 9.76602676e-03 9.83805913e-03]\n",
            " [5.59532933e-01 3.50737100e-03 2.01416081e-03 2.74741827e-03]\n",
            " [0.00000000e+00 0.00000000e+00 0.00000000e+00 0.00000000e+00]\n",
            " [0.00000000e+00 0.00000000e+00 0.00000000e+00 0.00000000e+00]\n",
            " [5.31579988e-02 2.96341979e-02 5.44210730e-01 1.80159874e-02]\n",
            " [9.71655062e-02 9.16969829e-01 1.35369416e-01 2.00429790e-01]\n",
            " [0.00000000e+00 0.00000000e+00 0.00000000e+00 0.00000000e+00]]\n",
            "Average reward: 0.32133333333333336:\n"
          ]
        }
      ]
    },
    {
      "cell_type": "code",
      "source": [
        "# we can plot the training progress and see how the agent improved\n",
        "\n",
        "import matplotlib.pyplot as plt\n",
        " \n",
        "def get_average(values):\n",
        "  return(sum(values)/len(values))\n",
        "\n",
        "avg_rewards = []\n",
        "for i in range(0 ,len(rewards), 100):\n",
        "  avg_rewards.append(get_average(rewards[i:i+100]))\n",
        "\n",
        "plt.plot(avg_rewards)  \n",
        "plt.ylabel(\"average rewards\")\n",
        "plt.xlabel(\"episodes\")\n",
        "plt.show() "
      ],
      "metadata": {
        "colab": {
          "base_uri": "https://localhost:8080/",
          "height": 279
        },
        "id": "uR9rC2AyiS-0",
        "outputId": "2bdcb042-0a14-43b2-fd93-23a50f9f19f4"
      },
      "execution_count": 21,
      "outputs": [
        {
          "output_type": "display_data",
          "data": {
            "text/plain": [
              "<Figure size 432x288 with 1 Axes>"
            ],
            "image/png": "[encoded data removed]"
          },
          "metadata": {
            "needs_background": "light"
          }
        }
      ]
    }
  ]
}