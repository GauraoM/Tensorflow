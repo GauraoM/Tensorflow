{
  "nbformat": 4,
  "nbformat_minor": 0,
  "metadata": {
    "colab": {
      "name": "Clustering.ipynb",
      "provenance": [],
      "collapsed_sections": [],
      "authorship_tag": "ABX9TyN20essibMnpuZpVrpfEIoD",
      "include_colab_link": true
    },
    "kernelspec": {
      "name": "python3",
      "display_name": "Python 3"
    },
    "language_info": {
      "name": "python"
    }
  },
  "cells": [
    {
      "cell_type": "markdown",
      "metadata": {
        "id": "view-in-github",
        "colab_type": "text"
      },
      "source": [
        "<a href=\"https://colab.research.google.com/github/GauraoM/Tensorflow/blob/main/Clustering.ipynb\" target=\"_parent\"><img src=\"https://colab.research.google.com/assets/colab-badge.svg\" alt=\"Open In Colab\"/></a>"
      ]
    },
    {
      "cell_type": "markdown",
      "source": [
        "#### Hidden Markov Model"
      ],
      "metadata": {
        "id": "T7PnsNdguFiL"
      }
    },
    {
      "cell_type": "code",
      "execution_count": 1,
      "metadata": {
        "id": "nwkvUEGYmExD"
      },
      "outputs": [],
      "source": [
        "import tensorflow_probability as tfp  # We are using a different module from tensorflow this time\n",
        "import tensorflow as tf"
      ]
    },
    {
      "cell_type": "markdown",
      "source": [
        "#### Weather Model\n",
        "\n",
        "##### We will model a simple weather system and try to predict the temperature on each day given the following information.\n",
        "\n",
        "##### 1.Cold days are encoded by a 0 and hot days are encoded by a 1.\n",
        "##### 2.The first day in our sequence has an 80% chance of being cold.\n",
        "##### 3.A cold day has a 30% chance of being followed by a hot day.\n",
        "##### 4.A hot day has a 20% chance of being followed by a cold day.\n",
        "##### 5.On each day the temperature is normally distributed with mean and standard deviation 0 and 5 on a cold day and mean and standard deviation 15 and 10 on a hot day."
      ],
      "metadata": {
        "id": "4NseBfEguluR"
      }
    },
    {
      "cell_type": "code",
      "source": [
        "tfd = tfp.distributions\n",
        "initial_distribution = tfd.Categorical(probs=[0.2, 0.8])  # Refer to point 2 above\n",
        "transition_distribution = tfd.Categorical(probs=[[0.7, 0.3],\n",
        "                                                 [0.2, 0.8]])  # refer to points 3 and 4 above\n",
        "observation_distribution = tfd.Normal(loc=[0., 15.], scale=[5., 10.])  # refer to point 5 above, the loc argument represents the mean and the scale is the standard devitation"
      ],
      "metadata": {
        "id": "sdwVegH3vIoG"
      },
      "execution_count": 5,
      "outputs": []
    },
    {
      "cell_type": "code",
      "source": [
        "# Creating hidden markov model\n",
        "model = tfd.HiddenMarkovModel(initial_distribution=initial_distribution,\n",
        "                              transition_distribution=transition_distribution,\n",
        "                              observation_distribution=observation_distribution,\n",
        "                              num_steps=7)"
      ],
      "metadata": {
        "id": "wicJakHww2PA"
      },
      "execution_count": 6,
      "outputs": []
    },
    {
      "cell_type": "code",
      "source": [
        "mean = model.mean()\n",
        "print(mean)\n",
        "print(mean.numpy())"
      ],
      "metadata": {
        "colab": {
          "base_uri": "https://localhost:8080/"
        },
        "id": "wftgpAcCyZGs",
        "outputId": "0994f05d-4a03-409b-ea2c-6ee45e7024dc"
      },
      "execution_count": 8,
      "outputs": [
        {
          "output_type": "stream",
          "name": "stdout",
          "text": [
            "tf.Tensor([11.999999 10.500001  9.75      9.375     9.1875    9.09375   9.046875], shape=(7,), dtype=float32)\n",
            "[11.999999 10.500001  9.75      9.375     9.1875    9.09375   9.046875]\n"
          ]
        }
      ]
    }
  ]
}