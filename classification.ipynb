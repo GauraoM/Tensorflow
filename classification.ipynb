{
  "nbformat": 4,
  "nbformat_minor": 0,
  "metadata": {
    "colab": {
      "name": "classification.ipynb",
      "provenance": [],
      "collapsed_sections": [],
      "authorship_tag": "ABX9TyM4bqADOXrhXzk/p0vr2iuA",
      "include_colab_link": true
    },
    "kernelspec": {
      "name": "python3",
      "display_name": "Python 3"
    },
    "language_info": {
      "name": "python"
    }
  },
  "cells": [
    {
      "cell_type": "markdown",
      "metadata": {
        "id": "view-in-github",
        "colab_type": "text"
      },
      "source": [
        "<a href=\"https://colab.research.google.com/github/GauraoM/Tensorflow/blob/main/classification.ipynb\" target=\"_parent\"><img src=\"https://colab.research.google.com/assets/colab-badge.svg\" alt=\"Open In Colab\"/></a>"
      ]
    },
    {
      "cell_type": "code",
      "execution_count": null,
      "metadata": {
        "id": "S0Ew7fKBsfhv"
      },
      "outputs": [],
      "source": [
        "from __future__ import absolute_import, division, print_function, unicode_literals\n",
        "\n",
        "import tensorflow as tf\n",
        "import pandas as pd"
      ]
    },
    {
      "cell_type": "markdown",
      "source": [
        "### Dataset\n",
        "#### 3 classes of species Setosa, Versicolor, Verginica\n",
        "#### Information: sepal length, sepal width, petal length, petal width  "
      ],
      "metadata": {
        "id": "Ta6lm5SOva4h"
      }
    },
    {
      "cell_type": "code",
      "source": [
        "# set some constants\n",
        "CSV_COLUMN_NAMES = ['SepalLength', 'SepalWidth', 'PetalLength', 'PetalWidth', 'Species']\n",
        "SPECIES = ['Setosa', 'Versicolor', 'Virginica']"
      ],
      "metadata": {
        "id": "Bvsvt5p1vTym"
      },
      "execution_count": null,
      "outputs": []
    },
    {
      "cell_type": "code",
      "source": [
        "# Get the file and save it as their name given\n",
        "train_path = tf.keras.utils.get_file(\"iris_training.csv\",\"https://storage.googleapis.com/download.tensorflow.org/data/iris_training.csv\")\n",
        "test_path = tf.keras.utils.get_file(\"iris_test.csv\",\"https://storage.googleapis.com/download.tensorflow.org/data/iris_training.csv\")\n",
        "\n",
        "# reading the data\n",
        "train = pd.read_csv(train_path, names=CSV_COLUMN_NAMES, header=0)\n",
        "test = pd.read_csv(test_path, names = CSV_COLUMN_NAMES, header=0)"
      ],
      "metadata": {
        "id": "iJV82HyowNtO"
      },
      "execution_count": null,
      "outputs": []
    },
    {
      "cell_type": "code",
      "source": [
        "train.head() # returns 5 rows "
      ],
      "metadata": {
        "colab": {
          "base_uri": "https://localhost:8080/",
          "height": 206
        },
        "id": "abLFVG24xY-A",
        "outputId": "3cd6d92f-b306-4ea6-e2fb-9cc6cb0e362c"
      },
      "execution_count": null,
      "outputs": [
        {
          "output_type": "execute_result",
          "data": {
            "text/plain": [
              "   SepalLength  SepalWidth  PetalLength  PetalWidth  Species\n",
              "0          6.4         2.8          5.6         2.2        2\n",
              "1          5.0         2.3          3.3         1.0        1\n",
              "2          4.9         2.5          4.5         1.7        2\n",
              "3          4.9         3.1          1.5         0.1        0\n",
              "4          5.7         3.8          1.7         0.3        0"
            ],
            "text/html": [
              "\n",
              "  <div id=\"df-3fd948f6-8471-4b72-8132-d2b9349b43fb\">\n",
              "    <div class=\"colab-df-container\">\n",
              "      <div>\n",
              "<style scoped>\n",
              "    .dataframe tbody tr th:only-of-type {\n",
              "        vertical-align: middle;\n",
              "    }\n",
              "\n",
              "    .dataframe tbody tr th {\n",
              "        vertical-align: top;\n",
              "    }\n",
              "\n",
              "    .dataframe thead th {\n",
              "        text-align: right;\n",
              "    }\n",
              "</style>\n",
              "<table border=\"1\" class=\"dataframe\">\n",
              "  <thead>\n",
              "    <tr style=\"text-align: right;\">\n",
              "      <th></th>\n",
              "      <th>SepalLength</th>\n",
              "      <th>SepalWidth</th>\n",
              "      <th>PetalLength</th>\n",
              "      <th>PetalWidth</th>\n",
              "      <th>Species</th>\n",
              "    </tr>\n",
              "  </thead>\n",
              "  <tbody>\n",
              "    <tr>\n",
              "      <th>0</th>\n",
              "      <td>6.4</td>\n",
              "      <td>2.8</td>\n",
              "      <td>5.6</td>\n",
              "      <td>2.2</td>\n",
              "      <td>2</td>\n",
              "    </tr>\n",
              "    <tr>\n",
              "      <th>1</th>\n",
              "      <td>5.0</td>\n",
              "      <td>2.3</td>\n",
              "      <td>3.3</td>\n",
              "      <td>1.0</td>\n",
              "      <td>1</td>\n",
              "    </tr>\n",
              "    <tr>\n",
              "      <th>2</th>\n",
              "      <td>4.9</td>\n",
              "      <td>2.5</td>\n",
              "      <td>4.5</td>\n",
              "      <td>1.7</td>\n",
              "      <td>2</td>\n",
              "    </tr>\n",
              "    <tr>\n",
              "      <th>3</th>\n",
              "      <td>4.9</td>\n",
              "      <td>3.1</td>\n",
              "      <td>1.5</td>\n",
              "      <td>0.1</td>\n",
              "      <td>0</td>\n",
              "    </tr>\n",
              "    <tr>\n",
              "      <th>4</th>\n",
              "      <td>5.7</td>\n",
              "      <td>3.8</td>\n",
              "      <td>1.7</td>\n",
              "      <td>0.3</td>\n",
              "      <td>0</td>\n",
              "    </tr>\n",
              "  </tbody>\n",
              "</table>\n",
              "</div>\n",
              "      <button class=\"colab-df-convert\" onclick=\"convertToInteractive('df-3fd948f6-8471-4b72-8132-d2b9349b43fb')\"\n",
              "              title=\"Convert this dataframe to an interactive table.\"\n",
              "              style=\"display:none;\">\n",
              "        \n",
              "  <svg xmlns=\"http://www.w3.org/2000/svg\" height=\"24px\"viewBox=\"0 0 24 24\"\n",
              "       width=\"24px\">\n",
              "    <path d=\"M0 0h24v24H0V0z\" fill=\"none\"/>\n",
              "    <path d=\"M18.56 5.44l.94 2.06.94-2.06 2.06-.94-2.06-.94-.94-2.06-.94 2.06-2.06.94zm-11 1L8.5 8.5l.94-2.06 2.06-.94-2.06-.94L8.5 2.5l-.94 2.06-2.06.94zm10 10l.94 2.06.94-2.06 2.06-.94-2.06-.94-.94-2.06-.94 2.06-2.06.94z\"/><path d=\"M17.41 7.96l-1.37-1.37c-.4-.4-.92-.59-1.43-.59-.52 0-1.04.2-1.43.59L10.3 9.45l-7.72 7.72c-.78.78-.78 2.05 0 2.83L4 21.41c.39.39.9.59 1.41.59.51 0 1.02-.2 1.41-.59l7.78-7.78 2.81-2.81c.8-.78.8-2.07 0-2.86zM5.41 20L4 18.59l7.72-7.72 1.47 1.35L5.41 20z\"/>\n",
              "  </svg>\n",
              "      </button>\n",
              "      \n",
              "  <style>\n",
              "    .colab-df-container {\n",
              "      display:flex;\n",
              "      flex-wrap:wrap;\n",
              "      gap: 12px;\n",
              "    }\n",
              "\n",
              "    .colab-df-convert {\n",
              "      background-color: #E8F0FE;\n",
              "      border: none;\n",
              "      border-radius: 50%;\n",
              "      cursor: pointer;\n",
              "      display: none;\n",
              "      fill: #1967D2;\n",
              "      height: 32px;\n",
              "      padding: 0 0 0 0;\n",
              "      width: 32px;\n",
              "    }\n",
              "\n",
              "    .colab-df-convert:hover {\n",
              "      background-color: #E2EBFA;\n",
              "      box-shadow: 0px 1px 2px rgba(60, 64, 67, 0.3), 0px 1px 3px 1px rgba(60, 64, 67, 0.15);\n",
              "      fill: #174EA6;\n",
              "    }\n",
              "\n",
              "    [theme=dark] .colab-df-convert {\n",
              "      background-color: #3B4455;\n",
              "      fill: #D2E3FC;\n",
              "    }\n",
              "\n",
              "    [theme=dark] .colab-df-convert:hover {\n",
              "      background-color: #434B5C;\n",
              "      box-shadow: 0px 1px 3px 1px rgba(0, 0, 0, 0.15);\n",
              "      filter: drop-shadow(0px 1px 2px rgba(0, 0, 0, 0.3));\n",
              "      fill: #FFFFFF;\n",
              "    }\n",
              "  </style>\n",
              "\n",
              "      <script>\n",
              "        const buttonEl =\n",
              "          document.querySelector('#df-3fd948f6-8471-4b72-8132-d2b9349b43fb button.colab-df-convert');\n",
              "        buttonEl.style.display =\n",
              "          google.colab.kernel.accessAllowed ? 'block' : 'none';\n",
              "\n",
              "        async function convertToInteractive(key) {\n",
              "          const element = document.querySelector('#df-3fd948f6-8471-4b72-8132-d2b9349b43fb');\n",
              "          const dataTable =\n",
              "            await google.colab.kernel.invokeFunction('convertToInteractive',\n",
              "                                                     [key], {});\n",
              "          if (!dataTable) return;\n",
              "\n",
              "          const docLinkHtml = 'Like what you see? Visit the ' +\n",
              "            '<a target=\"_blank\" href=https://colab.research.google.com/notebooks/data_table.ipynb>data table notebook</a>'\n",
              "            + ' to learn more about interactive tables.';\n",
              "          element.innerHTML = '';\n",
              "          dataTable['output_type'] = 'display_data';\n",
              "          await google.colab.output.renderOutput(dataTable, element);\n",
              "          const docLink = document.createElement('div');\n",
              "          docLink.innerHTML = docLinkHtml;\n",
              "          element.appendChild(docLink);\n",
              "        }\n",
              "      </script>\n",
              "    </div>\n",
              "  </div>\n",
              "  "
            ]
          },
          "metadata": {},
          "execution_count": 10
        }
      ]
    },
    {
      "cell_type": "code",
      "source": [
        "# pop the species column so that can be used as label\n",
        "train_y = train.pop('Species')\n",
        "test_y = test.pop('Species')\n",
        "train.head()"
      ],
      "metadata": {
        "colab": {
          "base_uri": "https://localhost:8080/",
          "height": 206
        },
        "id": "zn3NXEsCxm-V",
        "outputId": "f7e8b6aa-00f7-4a92-b4ef-9573b00e6e75"
      },
      "execution_count": null,
      "outputs": [
        {
          "output_type": "execute_result",
          "data": {
            "text/plain": [
              "   SepalLength  SepalWidth  PetalLength  PetalWidth\n",
              "0          6.4         2.8          5.6         2.2\n",
              "1          5.0         2.3          3.3         1.0\n",
              "2          4.9         2.5          4.5         1.7\n",
              "3          4.9         3.1          1.5         0.1\n",
              "4          5.7         3.8          1.7         0.3"
            ],
            "text/html": [
              "\n",
              "  <div id=\"df-a3cf70f2-cdc2-4fee-83c4-6c2da83d0217\">\n",
              "    <div class=\"colab-df-container\">\n",
              "      <div>\n",
              "<style scoped>\n",
              "    .dataframe tbody tr th:only-of-type {\n",
              "        vertical-align: middle;\n",
              "    }\n",
              "\n",
              "    .dataframe tbody tr th {\n",
              "        vertical-align: top;\n",
              "    }\n",
              "\n",
              "    .dataframe thead th {\n",
              "        text-align: right;\n",
              "    }\n",
              "</style>\n",
              "<table border=\"1\" class=\"dataframe\">\n",
              "  <thead>\n",
              "    <tr style=\"text-align: right;\">\n",
              "      <th></th>\n",
              "      <th>SepalLength</th>\n",
              "      <th>SepalWidth</th>\n",
              "      <th>PetalLength</th>\n",
              "      <th>PetalWidth</th>\n",
              "    </tr>\n",
              "  </thead>\n",
              "  <tbody>\n",
              "    <tr>\n",
              "      <th>0</th>\n",
              "      <td>6.4</td>\n",
              "      <td>2.8</td>\n",
              "      <td>5.6</td>\n",
              "      <td>2.2</td>\n",
              "    </tr>\n",
              "    <tr>\n",
              "      <th>1</th>\n",
              "      <td>5.0</td>\n",
              "      <td>2.3</td>\n",
              "      <td>3.3</td>\n",
              "      <td>1.0</td>\n",
              "    </tr>\n",
              "    <tr>\n",
              "      <th>2</th>\n",
              "      <td>4.9</td>\n",
              "      <td>2.5</td>\n",
              "      <td>4.5</td>\n",
              "      <td>1.7</td>\n",
              "    </tr>\n",
              "    <tr>\n",
              "      <th>3</th>\n",
              "      <td>4.9</td>\n",
              "      <td>3.1</td>\n",
              "      <td>1.5</td>\n",
              "      <td>0.1</td>\n",
              "    </tr>\n",
              "    <tr>\n",
              "      <th>4</th>\n",
              "      <td>5.7</td>\n",
              "      <td>3.8</td>\n",
              "      <td>1.7</td>\n",
              "      <td>0.3</td>\n",
              "    </tr>\n",
              "  </tbody>\n",
              "</table>\n",
              "</div>\n",
              "      <button class=\"colab-df-convert\" onclick=\"convertToInteractive('df-a3cf70f2-cdc2-4fee-83c4-6c2da83d0217')\"\n",
              "              title=\"Convert this dataframe to an interactive table.\"\n",
              "              style=\"display:none;\">\n",
              "        \n",
              "  <svg xmlns=\"http://www.w3.org/2000/svg\" height=\"24px\"viewBox=\"0 0 24 24\"\n",
              "       width=\"24px\">\n",
              "    <path d=\"M0 0h24v24H0V0z\" fill=\"none\"/>\n",
              "    <path d=\"M18.56 5.44l.94 2.06.94-2.06 2.06-.94-2.06-.94-.94-2.06-.94 2.06-2.06.94zm-11 1L8.5 8.5l.94-2.06 2.06-.94-2.06-.94L8.5 2.5l-.94 2.06-2.06.94zm10 10l.94 2.06.94-2.06 2.06-.94-2.06-.94-.94-2.06-.94 2.06-2.06.94z\"/><path d=\"M17.41 7.96l-1.37-1.37c-.4-.4-.92-.59-1.43-.59-.52 0-1.04.2-1.43.59L10.3 9.45l-7.72 7.72c-.78.78-.78 2.05 0 2.83L4 21.41c.39.39.9.59 1.41.59.51 0 1.02-.2 1.41-.59l7.78-7.78 2.81-2.81c.8-.78.8-2.07 0-2.86zM5.41 20L4 18.59l7.72-7.72 1.47 1.35L5.41 20z\"/>\n",
              "  </svg>\n",
              "      </button>\n",
              "      \n",
              "  <style>\n",
              "    .colab-df-container {\n",
              "      display:flex;\n",
              "      flex-wrap:wrap;\n",
              "      gap: 12px;\n",
              "    }\n",
              "\n",
              "    .colab-df-convert {\n",
              "      background-color: #E8F0FE;\n",
              "      border: none;\n",
              "      border-radius: 50%;\n",
              "      cursor: pointer;\n",
              "      display: none;\n",
              "      fill: #1967D2;\n",
              "      height: 32px;\n",
              "      padding: 0 0 0 0;\n",
              "      width: 32px;\n",
              "    }\n",
              "\n",
              "    .colab-df-convert:hover {\n",
              "      background-color: #E2EBFA;\n",
              "      box-shadow: 0px 1px 2px rgba(60, 64, 67, 0.3), 0px 1px 3px 1px rgba(60, 64, 67, 0.15);\n",
              "      fill: #174EA6;\n",
              "    }\n",
              "\n",
              "    [theme=dark] .colab-df-convert {\n",
              "      background-color: #3B4455;\n",
              "      fill: #D2E3FC;\n",
              "    }\n",
              "\n",
              "    [theme=dark] .colab-df-convert:hover {\n",
              "      background-color: #434B5C;\n",
              "      box-shadow: 0px 1px 3px 1px rgba(0, 0, 0, 0.15);\n",
              "      filter: drop-shadow(0px 1px 2px rgba(0, 0, 0, 0.3));\n",
              "      fill: #FFFFFF;\n",
              "    }\n",
              "  </style>\n",
              "\n",
              "      <script>\n",
              "        const buttonEl =\n",
              "          document.querySelector('#df-a3cf70f2-cdc2-4fee-83c4-6c2da83d0217 button.colab-df-convert');\n",
              "        buttonEl.style.display =\n",
              "          google.colab.kernel.accessAllowed ? 'block' : 'none';\n",
              "\n",
              "        async function convertToInteractive(key) {\n",
              "          const element = document.querySelector('#df-a3cf70f2-cdc2-4fee-83c4-6c2da83d0217');\n",
              "          const dataTable =\n",
              "            await google.colab.kernel.invokeFunction('convertToInteractive',\n",
              "                                                     [key], {});\n",
              "          if (!dataTable) return;\n",
              "\n",
              "          const docLinkHtml = 'Like what you see? Visit the ' +\n",
              "            '<a target=\"_blank\" href=https://colab.research.google.com/notebooks/data_table.ipynb>data table notebook</a>'\n",
              "            + ' to learn more about interactive tables.';\n",
              "          element.innerHTML = '';\n",
              "          dataTable['output_type'] = 'display_data';\n",
              "          await google.colab.output.renderOutput(dataTable, element);\n",
              "          const docLink = document.createElement('div');\n",
              "          docLink.innerHTML = docLinkHtml;\n",
              "          element.appendChild(docLink);\n",
              "        }\n",
              "      </script>\n",
              "    </div>\n",
              "  </div>\n",
              "  "
            ]
          },
          "metadata": {},
          "execution_count": 11
        }
      ]
    },
    {
      "cell_type": "markdown",
      "source": [
        "#### Input Function"
      ],
      "metadata": {
        "id": "XhwYZIHQyeKg"
      }
    },
    {
      "cell_type": "code",
      "source": [
        "def input_fn(features, labels, training=True, batch_size=256):\n",
        "    # Convert the inputs to a Dataset.\n",
        "    dataset = tf.data.Dataset.from_tensor_slices((dict(features), labels))\n",
        "    # Shuffle and repeat if in training mode.\n",
        "    if training:\n",
        "        dataset = dataset.shuffle(1000).repeat()\n",
        "    \n",
        "    return dataset.batch(batch_size)"
      ],
      "metadata": {
        "id": "UmPAWWp-yZWh"
      },
      "execution_count": 40,
      "outputs": []
    },
    {
      "cell_type": "markdown",
      "source": [
        "#### Feature columns"
      ],
      "metadata": {
        "id": "cFVlmP6H-g9M"
      }
    },
    {
      "cell_type": "code",
      "source": [
        "# It describes how to use input\n",
        "my_feature_columns = []\n",
        "for key in train.keys():\n",
        "    my_feature_columns.append(tf.feature_column.numeric_column(key=key))\n",
        "print(my_feature_columns)"
      ],
      "metadata": {
        "colab": {
          "base_uri": "https://localhost:8080/"
        },
        "id": "EBbyOB78-ge6",
        "outputId": "88439b98-39f3-4f96-e661-3ce86b75ad02"
      },
      "execution_count": 41,
      "outputs": [
        {
          "output_type": "stream",
          "name": "stdout",
          "text": [
            "[NumericColumn(key='SepalLength', shape=(1,), default_value=None, dtype=tf.float32, normalizer_fn=None), NumericColumn(key='SepalWidth', shape=(1,), default_value=None, dtype=tf.float32, normalizer_fn=None), NumericColumn(key='PetalLength', shape=(1,), default_value=None, dtype=tf.float32, normalizer_fn=None), NumericColumn(key='PetalWidth', shape=(1,), default_value=None, dtype=tf.float32, normalizer_fn=None)]\n"
          ]
        }
      ]
    },
    {
      "cell_type": "markdown",
      "source": [
        "#### Model building"
      ],
      "metadata": {
        "id": "x6o1Jo2tBPoH"
      }
    },
    {
      "cell_type": "code",
      "source": [
        "# Build a DNN classifier with two hidden layers having 30,10 nodes and numberr of classes are 3\n",
        "classifier = tf.estimator.DNNClassifier(feature_columns=my_feature_columns,hidden_units=[30, 10],n_classes=3)"
      ],
      "metadata": {
        "colab": {
          "base_uri": "https://localhost:8080/"
        },
        "id": "q28PAVKvBHbZ",
        "outputId": "dcb96dac-d56d-44e5-bdbc-121977026eb4"
      },
      "execution_count": 42,
      "outputs": [
        {
          "output_type": "stream",
          "name": "stdout",
          "text": [
            "INFO:tensorflow:Using default config.\n",
            "WARNING:tensorflow:Using temporary folder as model directory: /tmp/tmpegzh1umk\n",
            "INFO:tensorflow:Using config: {'_model_dir': '/tmp/tmpegzh1umk', '_tf_random_seed': None, '_save_summary_steps': 100, '_save_checkpoints_steps': None, '_save_checkpoints_secs': 600, '_session_config': allow_soft_placement: true\n",
            "graph_options {\n",
            "  rewrite_options {\n",
            "    meta_optimizer_iterations: ONE\n",
            "  }\n",
            "}\n",
            ", '_keep_checkpoint_max': 5, '_keep_checkpoint_every_n_hours': 10000, '_log_step_count_steps': 100, '_train_distribute': None, '_device_fn': None, '_protocol': None, '_eval_distribute': None, '_experimental_distribute': None, '_experimental_max_worker_delay_secs': None, '_session_creation_timeout_secs': 7200, '_checkpoint_save_graph_def': True, '_service': None, '_cluster_spec': ClusterSpec({}), '_task_type': 'worker', '_task_id': 0, '_global_id_in_cluster': 0, '_master': '', '_evaluation_master': '', '_is_chief': True, '_num_ps_replicas': 0, '_num_worker_replicas': 1}\n"
          ]
        }
      ]
    },
    {
      "cell_type": "markdown",
      "source": [
        "#### Training the Model "
      ],
      "metadata": {
        "id": "kP2FCpgACnBH"
      }
    },
    {
      "cell_type": "code",
      "source": [
        "# Includes lambda to avoid creating input function\n",
        "classifier.train(input_fn = lambda: input_fn(train, train_y, training=True),steps=5000)"
      ],
      "metadata": {
        "colab": {
          "base_uri": "https://localhost:8080/"
        },
        "id": "JqxjMDD_CV31",
        "outputId": "17bd26e3-215f-403f-a03a-6d75d2e54490"
      },
      "execution_count": 43,
      "outputs": [
        {
          "output_type": "stream",
          "name": "stdout",
          "text": [
            "INFO:tensorflow:Calling model_fn.\n",
            "WARNING:tensorflow:From /usr/local/lib/python3.7/dist-packages/keras/optimizer_v2/adagrad.py:84: calling Constant.__init__ (from tensorflow.python.ops.init_ops) with dtype is deprecated and will be removed in a future version.\n",
            "Instructions for updating:\n",
            "Call initializer instance with the dtype argument instead of passing it to the constructor\n",
            "INFO:tensorflow:Done calling model_fn.\n",
            "INFO:tensorflow:Create CheckpointSaverHook.\n",
            "INFO:tensorflow:Graph was finalized.\n",
            "INFO:tensorflow:Running local_init_op.\n",
            "INFO:tensorflow:Done running local_init_op.\n",
            "INFO:tensorflow:Calling checkpoint listeners before saving checkpoint 0...\n",
            "INFO:tensorflow:Saving checkpoints for 0 into /tmp/tmpegzh1umk/model.ckpt.\n",
            "INFO:tensorflow:Calling checkpoint listeners after saving checkpoint 0...\n",
            "INFO:tensorflow:loss = 1.9777102, step = 0\n",
            "INFO:tensorflow:global_step/sec: 348.149\n",
            "INFO:tensorflow:loss = 1.0925208, step = 100 (0.293 sec)\n",
            "INFO:tensorflow:global_step/sec: 410.604\n",
            "INFO:tensorflow:loss = 0.9771913, step = 200 (0.241 sec)\n",
            "INFO:tensorflow:global_step/sec: 393.595\n",
            "INFO:tensorflow:loss = 0.9281351, step = 300 (0.257 sec)\n",
            "INFO:tensorflow:global_step/sec: 369.855\n",
            "INFO:tensorflow:loss = 0.89862204, step = 400 (0.270 sec)\n",
            "INFO:tensorflow:global_step/sec: 406.897\n",
            "INFO:tensorflow:loss = 0.86831975, step = 500 (0.246 sec)\n",
            "INFO:tensorflow:global_step/sec: 394.301\n",
            "INFO:tensorflow:loss = 0.84457666, step = 600 (0.252 sec)\n",
            "INFO:tensorflow:global_step/sec: 414.203\n",
            "INFO:tensorflow:loss = 0.82354534, step = 700 (0.243 sec)\n",
            "INFO:tensorflow:global_step/sec: 416.13\n",
            "INFO:tensorflow:loss = 0.8151474, step = 800 (0.239 sec)\n",
            "INFO:tensorflow:global_step/sec: 403.647\n",
            "INFO:tensorflow:loss = 0.8016064, step = 900 (0.249 sec)\n",
            "INFO:tensorflow:global_step/sec: 370.357\n",
            "INFO:tensorflow:loss = 0.78362364, step = 1000 (0.267 sec)\n",
            "INFO:tensorflow:global_step/sec: 424.011\n",
            "INFO:tensorflow:loss = 0.76250446, step = 1100 (0.235 sec)\n",
            "INFO:tensorflow:global_step/sec: 457.618\n",
            "INFO:tensorflow:loss = 0.75645494, step = 1200 (0.218 sec)\n",
            "INFO:tensorflow:global_step/sec: 443.995\n",
            "INFO:tensorflow:loss = 0.7483276, step = 1300 (0.229 sec)\n",
            "INFO:tensorflow:global_step/sec: 421.544\n",
            "INFO:tensorflow:loss = 0.72913337, step = 1400 (0.236 sec)\n",
            "INFO:tensorflow:global_step/sec: 413.947\n",
            "INFO:tensorflow:loss = 0.7180687, step = 1500 (0.242 sec)\n",
            "INFO:tensorflow:global_step/sec: 444.084\n",
            "INFO:tensorflow:loss = 0.7054882, step = 1600 (0.225 sec)\n",
            "INFO:tensorflow:global_step/sec: 449.165\n",
            "INFO:tensorflow:loss = 0.70271677, step = 1700 (0.225 sec)\n",
            "INFO:tensorflow:global_step/sec: 437.809\n",
            "INFO:tensorflow:loss = 0.6954031, step = 1800 (0.228 sec)\n",
            "INFO:tensorflow:global_step/sec: 381.29\n",
            "INFO:tensorflow:loss = 0.6818855, step = 1900 (0.260 sec)\n",
            "INFO:tensorflow:global_step/sec: 374.894\n",
            "INFO:tensorflow:loss = 0.67363495, step = 2000 (0.267 sec)\n",
            "INFO:tensorflow:global_step/sec: 448.658\n",
            "INFO:tensorflow:loss = 0.6674844, step = 2100 (0.221 sec)\n",
            "INFO:tensorflow:global_step/sec: 450.629\n",
            "INFO:tensorflow:loss = 0.65246034, step = 2200 (0.224 sec)\n",
            "INFO:tensorflow:global_step/sec: 394.596\n",
            "INFO:tensorflow:loss = 0.65314925, step = 2300 (0.251 sec)\n",
            "INFO:tensorflow:global_step/sec: 398.52\n",
            "INFO:tensorflow:loss = 0.6384759, step = 2400 (0.253 sec)\n",
            "INFO:tensorflow:global_step/sec: 376.432\n",
            "INFO:tensorflow:loss = 0.645685, step = 2500 (0.266 sec)\n",
            "INFO:tensorflow:global_step/sec: 372.104\n",
            "INFO:tensorflow:loss = 0.6297016, step = 2600 (0.272 sec)\n",
            "INFO:tensorflow:global_step/sec: 360.932\n",
            "INFO:tensorflow:loss = 0.621519, step = 2700 (0.272 sec)\n",
            "INFO:tensorflow:global_step/sec: 411.725\n",
            "INFO:tensorflow:loss = 0.61322063, step = 2800 (0.246 sec)\n",
            "INFO:tensorflow:global_step/sec: 396.26\n",
            "INFO:tensorflow:loss = 0.60386544, step = 2900 (0.249 sec)\n",
            "INFO:tensorflow:global_step/sec: 446.268\n",
            "INFO:tensorflow:loss = 0.5973388, step = 3000 (0.227 sec)\n",
            "INFO:tensorflow:global_step/sec: 382.695\n",
            "INFO:tensorflow:loss = 0.5856236, step = 3100 (0.262 sec)\n",
            "INFO:tensorflow:global_step/sec: 427.586\n",
            "INFO:tensorflow:loss = 0.59000826, step = 3200 (0.232 sec)\n",
            "INFO:tensorflow:global_step/sec: 422.225\n",
            "INFO:tensorflow:loss = 0.586344, step = 3300 (0.240 sec)\n",
            "INFO:tensorflow:global_step/sec: 352.163\n",
            "INFO:tensorflow:loss = 0.5687946, step = 3400 (0.281 sec)\n",
            "INFO:tensorflow:global_step/sec: 407.584\n",
            "INFO:tensorflow:loss = 0.5784409, step = 3500 (0.247 sec)\n",
            "INFO:tensorflow:global_step/sec: 382.726\n",
            "INFO:tensorflow:loss = 0.5636548, step = 3600 (0.259 sec)\n",
            "INFO:tensorflow:global_step/sec: 390.239\n",
            "INFO:tensorflow:loss = 0.5624244, step = 3700 (0.256 sec)\n",
            "INFO:tensorflow:global_step/sec: 415.56\n",
            "INFO:tensorflow:loss = 0.5575681, step = 3800 (0.244 sec)\n",
            "INFO:tensorflow:global_step/sec: 404.317\n",
            "INFO:tensorflow:loss = 0.55664754, step = 3900 (0.244 sec)\n",
            "INFO:tensorflow:global_step/sec: 392.076\n",
            "INFO:tensorflow:loss = 0.5548964, step = 4000 (0.257 sec)\n",
            "INFO:tensorflow:global_step/sec: 441.344\n",
            "INFO:tensorflow:loss = 0.5383041, step = 4100 (0.227 sec)\n",
            "INFO:tensorflow:global_step/sec: 402.073\n",
            "INFO:tensorflow:loss = 0.54290545, step = 4200 (0.245 sec)\n",
            "INFO:tensorflow:global_step/sec: 390.773\n",
            "INFO:tensorflow:loss = 0.54218954, step = 4300 (0.256 sec)\n",
            "INFO:tensorflow:global_step/sec: 261.711\n",
            "INFO:tensorflow:loss = 0.5285971, step = 4400 (0.387 sec)\n",
            "INFO:tensorflow:global_step/sec: 243.153\n",
            "INFO:tensorflow:loss = 0.5264138, step = 4500 (0.406 sec)\n",
            "INFO:tensorflow:global_step/sec: 227.167\n",
            "INFO:tensorflow:loss = 0.51217544, step = 4600 (0.440 sec)\n",
            "INFO:tensorflow:global_step/sec: 244.254\n",
            "INFO:tensorflow:loss = 0.5154562, step = 4700 (0.409 sec)\n",
            "INFO:tensorflow:global_step/sec: 246.83\n",
            "INFO:tensorflow:loss = 0.5130243, step = 4800 (0.406 sec)\n",
            "INFO:tensorflow:global_step/sec: 250.353\n",
            "INFO:tensorflow:loss = 0.51415676, step = 4900 (0.399 sec)\n",
            "INFO:tensorflow:Calling checkpoint listeners before saving checkpoint 5000...\n",
            "INFO:tensorflow:Saving checkpoints for 5000 into /tmp/tmpegzh1umk/model.ckpt.\n",
            "INFO:tensorflow:Calling checkpoint listeners after saving checkpoint 5000...\n",
            "INFO:tensorflow:Loss for final step: 0.50575525.\n"
          ]
        },
        {
          "output_type": "execute_result",
          "data": {
            "text/plain": [
              "<tensorflow_estimator.python.estimator.canned.dnn.DNNClassifierV2 at 0x7febb0c50390>"
            ]
          },
          "metadata": {},
          "execution_count": 43
        }
      ]
    },
    {
      "cell_type": "code",
      "source": [
        "# Evaluation\n",
        "eval_result = classifier.evaluate(input_fn=lambda: input_fn(test, test_y, training=False))\n",
        "print('\\nTest set accuracy: {accuracy:0.3f}\\n'.format(**eval_result))"
      ],
      "metadata": {
        "colab": {
          "base_uri": "https://localhost:8080/"
        },
        "id": "nNpGDmHqHL7A",
        "outputId": "bc7e8326-a219-4030-ba45-baf461dbea4a"
      },
      "execution_count": 44,
      "outputs": [
        {
          "output_type": "stream",
          "name": "stdout",
          "text": [
            "INFO:tensorflow:Calling model_fn.\n",
            "INFO:tensorflow:Done calling model_fn.\n",
            "INFO:tensorflow:Starting evaluation at 2022-03-21T06:23:10\n",
            "INFO:tensorflow:Graph was finalized.\n",
            "INFO:tensorflow:Restoring parameters from /tmp/tmpegzh1umk/model.ckpt-5000\n",
            "INFO:tensorflow:Running local_init_op.\n",
            "INFO:tensorflow:Done running local_init_op.\n",
            "INFO:tensorflow:Inference Time : 0.36135s\n",
            "INFO:tensorflow:Finished evaluation at 2022-03-21-06:23:11\n",
            "INFO:tensorflow:Saving dict for global step 5000: accuracy = 0.81666666, average_loss = 0.506233, global_step = 5000, loss = 0.506233\n",
            "INFO:tensorflow:Saving 'checkpoint_path' summary for global step 5000: /tmp/tmpegzh1umk/model.ckpt-5000\n",
            "\n",
            "Test set accuracy: 0.817\n",
            "\n"
          ]
        }
      ]
    },
    {
      "cell_type": "markdown",
      "source": [
        "#### Predictions\n"
      ],
      "metadata": {
        "id": "K-NPEmjxJziO"
      }
    },
    {
      "cell_type": "code",
      "source": [
        "def input_fn(features, batch_size=25):\n",
        "  # Converting the inputs to a Dataset without labels.\n",
        "  return tf.data.Dataset.from_tensor_slices(dict(features)).batch(batch_size)\n",
        "\n",
        "features = ['SepalLength', 'SepalWidth', 'PetalLength', 'PetalWidth']\n",
        "predict = {}\n",
        "\n",
        "print(\"Please type numeric values as prompted.\")\n",
        "# Iterates through features\n",
        "for feature in features:\n",
        "  valid = True\n",
        "  while valid:\n",
        "    val = input(feature + \":\")\n",
        "    if not val.isdigit(): # if not a digit\n",
        "      valid = False\n",
        "  predict[feature] = [float(val)] \n",
        "\n",
        "\n",
        "# perform prediction\n",
        "predictions = classifier.predict(input_fn=lambda: input_fn(predict))\n",
        "# Iterating over prediction\n",
        "for pred_dict in predictions:\n",
        "    print(pred_dict)\n",
        "  # Get the class id\n",
        "    class_id = pred_dict['class_ids'][0]\n",
        "    # Get the probability\n",
        "    probability = pred_dict['probabilities'][class_id]\n",
        "\n",
        "    print('Prediction is \"{}\" ({:.1f}%)'.format(SPECIES[class_id], 100 * probability))\n"
      ],
      "metadata": {
        "colab": {
          "base_uri": "https://localhost:8080/"
        },
        "id": "-TcUM1URJ3BO",
        "outputId": "e33ed857-124b-4fd8-9c90-00cd2e8e6f18"
      },
      "execution_count": 49,
      "outputs": [
        {
          "output_type": "stream",
          "name": "stdout",
          "text": [
            "Please type numeric values as prompted.\n",
            "SepalLength:6.4\n",
            "SepalWidth:6.5\n",
            "PetalLength:5.3\n",
            "PetalWidth:5.6\n",
            "INFO:tensorflow:Calling model_fn.\n",
            "INFO:tensorflow:Done calling model_fn.\n",
            "INFO:tensorflow:Graph was finalized.\n",
            "INFO:tensorflow:Restoring parameters from /tmp/tmpegzh1umk/model.ckpt-5000\n",
            "INFO:tensorflow:Running local_init_op.\n",
            "INFO:tensorflow:Done running local_init_op.\n",
            "{'logits': array([2.735777 , 2.9611075, 3.082922 ], dtype=float32), 'probabilities': array([0.27264607, 0.34155378, 0.38580018], dtype=float32), 'class_ids': array([2]), 'classes': array([b'2'], dtype=object), 'all_class_ids': array([0, 1, 2], dtype=int32), 'all_classes': array([b'0', b'1', b'2'], dtype=object)}\n",
            "Prediction is \"Virginica\" (38.6%)\n"
          ]
        }
      ]
    }
  ]
}